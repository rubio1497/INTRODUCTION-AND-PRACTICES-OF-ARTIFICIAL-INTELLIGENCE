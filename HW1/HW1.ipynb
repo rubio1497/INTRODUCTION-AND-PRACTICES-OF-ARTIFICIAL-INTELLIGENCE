{
 "cells": [
  {
   "cell_type": "code",
   "execution_count": 1,
   "metadata": {
    "colab": {},
    "colab_type": "code",
    "id": "wbIgG7sWXA2N"
   },
   "outputs": [],
   "source": [
    "import time\n",
    "import numpy as np\n",
    "import matplotlib.pyplot as plt\n",
    "\n",
    "%matplotlib inline\n",
    "# 圖片像素\n",
    "plt.rcParams['figure.figsize'] = (5.0, 4.0) # set default size of plots\n",
    "# 插值\n",
    "plt.rcParams['image.interpolation'] = 'nearest'\n",
    "plt.rcParams['image.cmap'] = 'gray'\n"
   ]
  },
  {
   "cell_type": "markdown",
   "metadata": {
    "colab_type": "text",
    "id": "LvurbAOnXcpQ"
   },
   "source": [
    "# dataset"
   ]
  },
  {
   "cell_type": "markdown",
   "metadata": {
    "colab_type": "text",
    "id": "3rqP1VZAZDRM"
   },
   "source": [
    "↓ 這裡使用的dataset取樣自MNIST,\n",
    "+  x:(?, 28,28) unsigned int\n",
    "+  y:(?, 1) unsigned int 表為奇數還偶數\n",
    "\n"
   ]
  },
  {
   "cell_type": "code",
   "execution_count": 2,
   "metadata": {
    "colab": {},
    "colab_type": "code",
    "id": "EQzRxXeyXZ6H"
   },
   "outputs": [
    {
     "name": "stderr",
     "output_type": "stream",
     "text": [
      "Downloading...\n",
      "From: https://drive.google.com/uc?id=1ol0M43I9MfC4qECiUnXVT-jYPgPiGiFH\n",
      "To: C:\\Users\\Rubio\\AppData\\Roaming\\SPB_16.6\\data.npz\n",
      "\n",
      "  0%|          | 0.00/67.0k [00:00<?, ?B/s]\n",
      "100%|██████████| 67.0k/67.0k [00:00<00:00, 3.78MB/s]\n"
     ]
    }
   ],
   "source": [
    "# get dataset\n",
    "!gdown --id \"1ol0M43I9MfC4qECiUnXVT-jYPgPiGiFH\" --output data.npz\n",
    "loader = np.load('data.npz')\n",
    "x_train_orig, y_train_orig, x_test_orig, y_test_orig = loader.values()"
   ]
  },
  {
   "cell_type": "code",
   "execution_count": 3,
   "metadata": {
    "colab": {},
    "colab_type": "code",
    "id": "rjDcTUovafFC"
   },
   "outputs": [
    {
     "name": "stdout",
     "output_type": "stream",
     "text": [
      "train data shape: \t(300, 28, 28)\n",
      "train label shape: \t(300,)\n",
      "test data shape: \t(100, 28, 28)\n",
      "test label shape: \t(100,)\n"
     ]
    }
   ],
   "source": [
    "# check data shape\n",
    "print('train data shape: \\t' + str(x_train_orig.shape))\n",
    "print('train label shape: \\t' + str(y_train_orig.shape))\n",
    "print('test data shape: \\t' + str(x_test_orig.shape))\n",
    "print('test label shape: \\t' + str(y_test_orig.shape))"
   ]
  },
  {
   "cell_type": "markdown",
   "metadata": {
    "colab_type": "text",
    "id": "WBWk_6AgcIPX"
   },
   "source": [
    "↑  預期輸出:\n",
    "```\n",
    "train data shape: \t(300, 28, 28) -> 代表有300張圖片訓練\n",
    "train label shape: \t(300,)\n",
    "test data shape: \t(100, 28, 28)\n",
    "test label shape: \t(100,)\n",
    "```"
   ]
  },
  {
   "cell_type": "code",
   "execution_count": 4,
   "metadata": {
    "colab": {},
    "colab_type": "code",
    "id": "ri2W9KFndUIM"
   },
   "outputs": [
    {
     "data": {
      "image/png": "[encoded data removed]",
      "text/plain": [
       "<Figure size 432x288 with 1 Axes>"
      ]
     },
     "metadata": {
      "needs_background": "light"
     },
     "output_type": "display_data"
    },
    {
     "name": "stdout",
     "output_type": "stream",
     "text": [
      "this is an even number\n"
     ]
    }
   ],
   "source": [
    "# Example of a picture\n",
    "# 更改 index 可得其他圖片\n",
    "index = 3\n",
    "# imshow 顯示圖片\n",
    "plt.imshow(x_train_orig[index])\n",
    "plt.show()\n",
    "LABEL = ['odd number', 'even number']\n",
    "print('this is an ' + LABEL[y_train_orig[index]] )"
   ]
  },
  {
   "cell_type": "markdown",
   "metadata": {
    "colab_type": "text",
    "id": "tQRKGV5Th0tA"
   },
   "source": [
    "↑  預期輸出:\\\n",
    "![](https://i.imgur.com/mMkP92G.png)\n"
   ]
  },
  {
   "cell_type": "code",
   "execution_count": 5,
   "metadata": {
    "scrolled": true
   },
   "outputs": [
    {
     "data": {
      "image/png": "[encoded data removed]",
      "text/plain": [
       "<Figure size 432x288 with 1 Axes>"
      ]
     },
     "metadata": {
      "needs_background": "light"
     },
     "output_type": "display_data"
    },
    {
     "name": "stdout",
     "output_type": "stream",
     "text": [
      "this is an odd number\n"
     ]
    }
   ],
   "source": [
    "index = 6\n",
    "# imshow 顯示圖片\n",
    "plt.imshow(x_train_orig[index])\n",
    "plt.show()\n",
    "LABEL = ['odd number', 'even number']\n",
    "print('this is an ' + LABEL[y_train_orig[index]] )"
   ]
  },
  {
   "cell_type": "code",
   "execution_count": 24,
   "metadata": {},
   "outputs": [
    {
     "data": {
      "image/png": "[encoded data removed]",
      "text/plain": [
       "<Figure size 432x288 with 1 Axes>"
      ]
     },
     "metadata": {
      "needs_background": "light"
     },
     "output_type": "display_data"
    },
    {
     "name": "stdout",
     "output_type": "stream",
     "text": [
      "this is an odd number\n"
     ]
    }
   ],
   "source": [
    "index = 299\n",
    "# imshow 顯示圖片\n",
    "plt.imshow(x_train_orig[index])\n",
    "plt.show()\n",
    "LABEL = ['odd number', 'even number']\n",
    "print('this is an ' + LABEL[y_train_orig[index]] )"
   ]
  },
  {
   "cell_type": "markdown",
   "metadata": {
    "colab_type": "text",
    "id": "ikiCqkn_gYWu"
   },
   "source": [
    "# Data Preprocessing\n",
    "↓ 進入MLP前，我們需要先對資料進行處理\n",
    "1.  將圖片攤平(二維轉為單維陣列)，此處僅為對應**全連接層**所需之操作\n",
    "2.  Standardize  Data to [0.0 ~ 1.0]\n",
    "3.  將label轉為1維轉成N維資料(分成N類)(本次不需要這麼做)\n",
    "4.  (本次因後續操作考量，將資料矩陣翻轉)\n"
   ]
  },
  {
   "cell_type": "code",
   "execution_count": 6,
   "metadata": {
    "colab": {},
    "colab_type": "code",
    "id": "62r7ADEigTyf"
   },
   "outputs": [
    {
     "name": "stdout",
     "output_type": "stream",
     "text": [
      "train data shape: \t(784, 300)\n",
      "train label shape: \t(1, 300)\n",
      "test data shape: \t(784, 100)\n",
      "test label shape: \t(1, 100)\n"
     ]
    }
   ],
   "source": [
    "# Reshape the training and test examples \n",
    "# 一般用法：numpy.arange(n).reshape(a, b); 依次生成n個自然数，並且以a行b列的數组形式顯示:\n",
    "# 特殊用法：mat (or array).reshape(c, -1); 必须是矩陣格式或者數组格式，才能使用 .reshape(c, -1) 函數， \n",
    "# 表示將此矩陣或者數组重组，以 c行d列的形式表示（-1的作用就在此，自動計算d：d=數组或者矩陣裡面所有的元素個数/c,\n",
    "# d必须是整數，不然報错）（reshape(-1, e)即列數固定，行數需要計算）：\n",
    "# 其他用法：numpy.arange(a,b,c)/ numpy.arange(a,b,c).reshape(m,n); 從數字a起, 步長為c, 到b结束，生成array：\n",
    "# .T 為 Array Transform\n",
    "x_train_flatten = x_train_orig.reshape(x_train_orig.shape[0], -1).T  \n",
    "# The \"-1\" makes reshape flatten the remaining dimensions\n",
    "x_test_flatten = x_test_orig.reshape(x_test_orig.shape[0], -1).T\n",
    "\n",
    "# Standardize data to have feature values between 0 and 1.\n",
    "x_train = x_train_flatten/255.\n",
    "x_test = x_test_flatten/255.\n",
    "\n",
    "## One-Hot encode the data label, but in this case we don't need to do\n",
    "#y_train = np.eye(N)[y_train_orig].T\n",
    "#y_test = np.eye(N)[y_test_orig].T\n",
    "y_train = y_train_orig.reshape([1,-1])\n",
    "y_test = y_test_orig.reshape([1,-1])\n",
    "\n",
    "# check data shape\n",
    "print('train data shape: \\t' + str(x_train.shape))\n",
    "print('train label shape: \\t' + str(y_train.shape))\n",
    "print('test data shape: \\t' + str(x_test.shape))\n",
    "print('test label shape: \\t' + str(y_test.shape))"
   ]
  },
  {
   "cell_type": "code",
   "execution_count": 7,
   "metadata": {},
   "outputs": [
    {
     "data": {
      "text/plain": [
       "array([[0, 0, 0, ..., 0, 0, 0],\n",
       "       [0, 0, 0, ..., 0, 0, 0],\n",
       "       [0, 0, 0, ..., 0, 0, 0],\n",
       "       ...,\n",
       "       [0, 0, 0, ..., 0, 0, 0],\n",
       "       [0, 0, 0, ..., 0, 0, 0],\n",
       "       [0, 0, 0, ..., 0, 0, 0]], dtype=uint8)"
      ]
     },
     "execution_count": 7,
     "metadata": {},
     "output_type": "execute_result"
    }
   ],
   "source": [
    "x_train_flatten"
   ]
  },
  {
   "cell_type": "code",
   "execution_count": 8,
   "metadata": {},
   "outputs": [
    {
     "data": {
      "text/plain": [
       "array([[[0, 0, 0, ..., 0, 0, 0],\n",
       "        [0, 0, 0, ..., 0, 0, 0],\n",
       "        [0, 0, 0, ..., 0, 0, 0],\n",
       "        ...,\n",
       "        [0, 0, 0, ..., 0, 0, 0],\n",
       "        [0, 0, 0, ..., 0, 0, 0],\n",
       "        [0, 0, 0, ..., 0, 0, 0]],\n",
       "\n",
       "       [[0, 0, 0, ..., 0, 0, 0],\n",
       "        [0, 0, 0, ..., 0, 0, 0],\n",
       "        [0, 0, 0, ..., 0, 0, 0],\n",
       "        ...,\n",
       "        [0, 0, 0, ..., 0, 0, 0],\n",
       "        [0, 0, 0, ..., 0, 0, 0],\n",
       "        [0, 0, 0, ..., 0, 0, 0]],\n",
       "\n",
       "       [[0, 0, 0, ..., 0, 0, 0],\n",
       "        [0, 0, 0, ..., 0, 0, 0],\n",
       "        [0, 0, 0, ..., 0, 0, 0],\n",
       "        ...,\n",
       "        [0, 0, 0, ..., 0, 0, 0],\n",
       "        [0, 0, 0, ..., 0, 0, 0],\n",
       "        [0, 0, 0, ..., 0, 0, 0]],\n",
       "\n",
       "       ...,\n",
       "\n",
       "       [[0, 0, 0, ..., 0, 0, 0],\n",
       "        [0, 0, 0, ..., 0, 0, 0],\n",
       "        [0, 0, 0, ..., 0, 0, 0],\n",
       "        ...,\n",
       "        [0, 0, 0, ..., 0, 0, 0],\n",
       "        [0, 0, 0, ..., 0, 0, 0],\n",
       "        [0, 0, 0, ..., 0, 0, 0]],\n",
       "\n",
       "       [[0, 0, 0, ..., 0, 0, 0],\n",
       "        [0, 0, 0, ..., 0, 0, 0],\n",
       "        [0, 0, 0, ..., 0, 0, 0],\n",
       "        ...,\n",
       "        [0, 0, 0, ..., 0, 0, 0],\n",
       "        [0, 0, 0, ..., 0, 0, 0],\n",
       "        [0, 0, 0, ..., 0, 0, 0]],\n",
       "\n",
       "       [[0, 0, 0, ..., 0, 0, 0],\n",
       "        [0, 0, 0, ..., 0, 0, 0],\n",
       "        [0, 0, 0, ..., 0, 0, 0],\n",
       "        ...,\n",
       "        [0, 0, 0, ..., 0, 0, 0],\n",
       "        [0, 0, 0, ..., 0, 0, 0],\n",
       "        [0, 0, 0, ..., 0, 0, 0]]], dtype=uint8)"
      ]
     },
     "execution_count": 8,
     "metadata": {},
     "output_type": "execute_result"
    }
   ],
   "source": [
    "x_train_orig"
   ]
  },
  {
   "cell_type": "markdown",
   "metadata": {
    "colab_type": "text",
    "id": "y5_6UKYekTmU"
   },
   "source": [
    "↑  預期輸出:\n",
    "```\n",
    "train data shape: \t(784, 300)\n",
    "train label shape: \t(1, 300)\n",
    "test data shape: \t(784, 100)\n",
    "test label shape: \t(1, 100)\n",
    "```"
   ]
  },
  {
   "cell_type": "markdown",
   "metadata": {
    "colab_type": "text",
    "id": "tiTEEmC1kXaa"
   },
   "source": [
    "# Forward and Backward\n",
    "1. forward\\\n",
    "  $\\text{cost} = L(F(w))$\n",
    "2. backward\\\n",
    "  $-\\triangle{w} \\propto \\frac{d\\text{cost}}{dw}$\n",
    "\n",
    "  $\\frac{d\\text{cost}}{dw} = \\frac{dL}{dF}\\frac{dF}{dw}$, (by *Chain Rule*)\n",
    "\n",
    "  \n",
    "  \n"
   ]
  },
  {
   "cell_type": "markdown",
   "metadata": {
    "colab_type": "text",
    "id": "w-ekP6Nxkklb"
   },
   "source": [
    "##  linear function\n",
    "1. forward\\\n",
    " $ z = f(X,W,b) = \\sum_{i=1}^{n}(W_i \\cdot X_i) + b$\n",
    "\n",
    "2. backward\\\n",
    " $ -\\triangle W_i \\propto \\frac{dL}{df} \\cdot X_i $\n",
    "\n",
    " $ -\\triangle dx_i \\propto \\frac{dL}{df} \\cdot W_i $\n",
    "\n",
    " $ -\\triangle db \\propto \\frac{dL}{df} \\cdot 1 $\n"
   ]
  },
  {
   "cell_type": "markdown",
   "metadata": {
    "colab_type": "text",
    "id": "pW04mMBuojbG"
   },
   "source": [
    "↓ 可參考: [numpy.dot](https://docs.scipy.org/doc/numpy/reference/generated/numpy.dot.html) , etc"
   ]
  },
  {
   "cell_type": "code",
   "execution_count": 9,
   "metadata": {
    "colab": {},
    "colab_type": "code",
    "id": "ZEu8tAODkW67"
   },
   "outputs": [],
   "source": [
    "# linear layer forward propagation 內積型式\n",
    "def linear_forward(X, W, b):\n",
    "    \"\"\"\n",
    "    Arguments:\n",
    "    X -- output from previous layer (or input data): (size of previous layer, number of examples)\n",
    "    W -- weights matrix: numpy array of shape (size of current layer, size of previous layer)\n",
    "    b -- bias vector, numpy array of shape (size of the current layer, 1)\n",
    "\n",
    "    Returns:\n",
    "    Z -- the input of the activation function, also called pre-activation parameter \n",
    "    cache -- a python dictionary containing \"X\", \"W\" and \"b\" ; stored for computing the backward pass efficiently\n",
    "    \"\"\"\n",
    "    ##################################\n",
    "    ####          TODO            ####\n",
    "    ##################################\n",
    "    Z = np.dot(W,X) + b\n",
    "    ##################################\n",
    "    ####          TODO            ####\n",
    "    ##################################\n",
    "\n",
    "    # 如果大小不同，raise exception \n",
    "    assert(Z.shape == (W.shape[0], X.shape[1]))\n",
    "    cache = (X, W, b)\n",
    "    \n",
    "    return Z, cache\n"
   ]
  },
  {
   "cell_type": "code",
   "execution_count": 10,
   "metadata": {
    "colab": {},
    "colab_type": "code",
    "id": "LexaEUBJt9A9"
   },
   "outputs": [
    {
     "name": "stdout",
     "output_type": "stream",
     "text": [
      "X : [[-1.02690451  0.22174943  1.13039011  1.14618522 -0.59273429]\n",
      " [ 0.11878403 -0.48443021 -1.94491271  0.09207734  0.90216909]\n",
      " [ 1.31446859  0.77110218 -0.54014736 -0.28411518 -0.88933117]]\n",
      "W : [[ 0.40416927 -1.14481162  0.54539594]\n",
      " [ 1.45406998  1.22397676  0.22120243]]\n",
      "b : [[0.]\n",
      " [0.]]\n",
      "Z : [[ 0.16587724  1.06476164  2.38883344  0.20288637 -1.75741625]\n",
      " [-1.05703849 -0.09992247 -0.85634353  1.71648708  0.04563466]]\n"
     ]
    }
   ],
   "source": [
    "# check linear_forward\n",
    "# 製造不同的亂數 108 個\n",
    "np.random.seed(108)\n",
    "\n",
    "num_of_input = 5\n",
    "input_shape = 3\n",
    "output_shape = 2\n",
    "\n",
    "# np.random.randn(x,y) = > x rows , y columns\n",
    "\n",
    "X = np.random.randn(input_shape, num_of_input) \n",
    "W = np.random.randn(output_shape, input_shape)\n",
    "b = np.zeros((output_shape,1))\n",
    "\n",
    "Z, cache = linear_forward(X,W,b)\n",
    "\n",
    "print('X : ' + str(X))\n",
    "print('W : ' + str(W))\n",
    "print('b : ' + str(b))\n",
    "print('Z : ' + str(Z))"
   ]
  },
  {
   "cell_type": "markdown",
   "metadata": {
    "colab_type": "text",
    "id": "nI7CTSE_1v8D"
   },
   "source": [
    "↑  預期輸出:\n",
    "```\n",
    "X : [[-1.02690451  0.22174943  1.13039011  1.14618522 -0.59273429]\n",
    " [ 0.11878403 -0.48443021 -1.94491271  0.09207734  0.90216909]\n",
    " [ 1.31446859  0.77110218 -0.54014736 -0.28411518 -0.88933117]]\n",
    "W : [[ 0.40416927 -1.14481162  0.54539594]\n",
    " [ 1.45406998  1.22397676  0.22120243]]\n",
    "b : [[0.]\n",
    " [0.]]\n",
    "Z : [[ 0.16587724  1.06476164  2.38883344  0.20288637 -1.75741625]\n",
    " [-1.05703849 -0.09992247 -0.85634353  1.71648708  0.04563466]]\n",
    "```"
   ]
  },
  {
   "cell_type": "code",
   "execution_count": 11,
   "metadata": {
    "colab": {},
    "colab_type": "code",
    "id": "Oyb-OcYbyJzs"
   },
   "outputs": [],
   "source": [
    "# linear layer backward propagation\n",
    "def linear_backward(dZ, cache):\n",
    "    \"\"\"\n",
    "    Arguments:\n",
    "    dZ -- Gradient of the cost with respect to the linear output\n",
    "    cache -- tuple of values (X_prev, W, b) coming from the forward propagation in the current layer\n",
    "\n",
    "    Returns:\n",
    "    dX_prev -- Gradient of the cost with respect to the activation (of the previous layer l-1), same shape as X_prev\n",
    "    dW -- Gradient of the cost with respect to W (current layer l), same shape as W\n",
    "    db -- Gradient of the cost with respect to b (current layer l), same shape as b\n",
    "    \"\"\"\n",
    "    X_prev, W, b = cache\n",
    "    m = X_prev.shape[-1] # shape 結果後最後一個數字\n",
    "    \n",
    "    dW = 1./m * np.dot(dZ,X_prev.T)\n",
    "    dX_prev = np.dot(W.T,dZ)\n",
    "    db = 1./m * np.sum(dZ, axis = 1, keepdims = True)\n",
    "    \n",
    "    assert (dX_prev.shape == X_prev.shape)\n",
    "    assert (dW.shape == W.shape)\n",
    "    assert (db.shape == b.shape)\n",
    "    \n",
    "    return dX_prev, dW, db"
   ]
  },
  {
   "cell_type": "code",
   "execution_count": 12,
   "metadata": {
    "colab": {},
    "colab_type": "code",
    "id": "kH-LwGd8yWRV"
   },
   "outputs": [
    {
     "name": "stdout",
     "output_type": "stream",
     "text": [
      "dZ : [[-0.18773494  2.44063677 -0.94090784  0.61391165  0.73562667]\n",
      " [ 0.97291789  0.25919495 -0.07407492 -0.17768802 -0.83874355]]\n",
      "dX_prev : [[ 1.338814    1.36331797 -0.48799614 -0.01024659 -0.92227413]\n",
      " [ 1.40575002 -2.47682075  0.98649625 -0.9202992  -1.86875658]\n",
      " [ 0.11282192  1.38844793 -0.52955286  0.2955199   0.21567569]]\n",
      "dW : [[-0.01239439  0.2691105   0.26296004]\n",
      " [-0.14637246 -0.12779501  0.46303036]]\n",
      "db : [[0.53230646]\n",
      " [0.02832127]]\n"
     ]
    }
   ],
   "source": [
    "# check linear_backward\n",
    "np.random.seed(109)\n",
    "dZ = np.random.randn(output_shape, num_of_input)\n",
    "\n",
    "dX_prev, dW, db = linear_backward(dZ, cache)\n",
    "print('dZ : ' + str(dZ))\n",
    "print('dX_prev : ' + str(dX_prev))\n",
    "print('dW : ' + str(dW))\n",
    "print('db : ' + str(db))"
   ]
  },
  {
   "cell_type": "markdown",
   "metadata": {
    "colab_type": "text",
    "id": "IbEVxtMX13c8"
   },
   "source": [
    "↑  預期輸出:\n",
    "```\n",
    "dZ : [[-0.18773494  2.44063677 -0.94090784  0.61391165  0.73562667]\n",
    " [ 0.97291789  0.25919495 -0.07407492 -0.17768802 -0.83874355]]\n",
    "dX_prev : [[ 1.338814    1.36331797 -0.48799614 -0.01024659 -0.92227413]\n",
    " [ 1.40575002 -2.47682075  0.98649625 -0.9202992  -1.86875658]\n",
    " [ 0.11282192  1.38844793 -0.52955286  0.2955199   0.21567569]]\n",
    "dW : [[-0.01239439  0.2691105   0.26296004]\n",
    " [-0.14637246 -0.12779501  0.46303036]]\n",
    "db : [[0.53230646]\n",
    " [0.02832127]]\n",
    "```"
   ]
  },
  {
   "cell_type": "markdown",
   "metadata": {
    "colab_type": "text",
    "id": "w3OiVr6Dj4eG"
   },
   "source": [
    "## activation function\n",
    "Sigmoid:\n",
    "1. forward\\\n",
    " $ Y = f(Z) = \\frac{1}{1 + e^{-Z}}$\n",
    "\n",
    "2. backward\\\n",
    " $  -\\triangle Z \\propto \\frac{dL}{dZ} = \\frac{dL}{df} \\cdot f(Z) \\cdot (1-f(Z))$"
   ]
  },
  {
   "cell_type": "markdown",
   "metadata": {
    "colab_type": "text",
    "id": "ad1US7JZoqjz"
   },
   "source": [
    "↓ 可參考: [numpy.exp](https://docs.scipy.org/doc/numpy/reference/generated/numpy.exp.html) , etc"
   ]
  },
  {
   "cell_type": "code",
   "execution_count": 85,
   "metadata": {
    "colab": {},
    "colab_type": "code",
    "id": "bMKN-Y84ggNh"
   },
   "outputs": [],
   "source": [
    "def sigmoid(Z):\n",
    "    \"\"\"\n",
    "    Arguments:\n",
    "    Z -- numpy array of any shape\n",
    "    \n",
    "    Returns:\n",
    "    Y -- output of sigmoid(z), same shape as Z\n",
    "    cache -- returns Z as well, useful during backpropagation\n",
    "    \"\"\"\n",
    "    \n",
    "    ##################################\n",
    "    ####          TODO            ####\n",
    "    ##################################\n",
    "    Y = 1/(np.exp(-Z) + 1)\n",
    "  # Y = (-np.exp(-Z) + np.exp(Z))/(np.exp(-Z) + np.exp(Z))\n",
    "    ##################################\n",
    "    ####          TODO            ####\n",
    "    ##################################\n",
    "    cache = Z\n",
    "\n",
    "    return Y, cache\n",
    "\n",
    "def sigmoid_backward(dY, cache):\n",
    "    \"\"\"\n",
    "    Arguments:\n",
    "    dY -- post-activation gradient, of any shape\n",
    "    cache -- 'Z' where we store for computing backward propagation efficiently\n",
    "\n",
    "    Returns:\n",
    "    dZ -- Gradient of the cost with respect to Z\n",
    "    \"\"\"\n",
    "    \n",
    "    Z = cache\n",
    "    ##################################\n",
    "    ####          TODO            ####\n",
    "    ##################################\n",
    "    dZ = (1/(np.exp(-Z) + 1))*(1 - (1/(np.exp(-Z) + 1)))*dY\n",
    "#   dZ = (1-((-np.exp(-Z) + np.exp(Z))/(np.exp(-Z) + np.exp(Z)))**2)*dY\n",
    "    ##################################\n",
    "    ####          TODO            ####\n",
    "    ##################################\n",
    "    \n",
    "    assert (dZ.shape == Z.shape)\n",
    "    \n",
    "    return dZ\n"
   ]
  },
  {
   "cell_type": "code",
   "execution_count": 86,
   "metadata": {
    "colab": {},
    "colab_type": "code",
    "id": "CAhROpvSiZmY"
   },
   "outputs": [
    {
     "name": "stdout",
     "output_type": "stream",
     "text": [
      "Y : [0.11920292 0.26894142 0.5        0.73105858 0.88079708]\n",
      "dZ : [0.05249679 0.09830597 0.125      0.09830597 0.05249679]\n"
     ]
    }
   ],
   "source": [
    "# check sigmoid and sigmoid_backward\n",
    "Z = np.array([-2., -1., 0., 1., 2.])\n",
    "Y, cache = sigmoid(Z)\n",
    "dZ = sigmoid_backward(0.5, cache)\n",
    "print('Y : ' + str(Y))\n",
    "print('dZ : ' + str(dZ))"
   ]
  },
  {
   "cell_type": "markdown",
   "metadata": {
    "colab_type": "text",
    "id": "lSxILcZgjwNv"
   },
   "source": [
    "↑  預期輸出:\n",
    "```\n",
    "Y : [0.11920292 0.26894142 0.5        0.73105858 0.88079708]\n",
    "dZ : [0.05249679 0.09830597 0.125      0.09830597 0.05249679]\n",
    "```"
   ]
  },
  {
   "cell_type": "markdown",
   "metadata": {
    "colab_type": "text",
    "id": "tROH23uG14PA"
   },
   "source": [
    "# Loss or Cost\n",
    "象徵網路的性能(通常是表示有多差，數值越小越好)，求其梯度方向來做為優化參數的方向(梯度反向)"
   ]
  },
  {
   "cell_type": "markdown",
   "metadata": {
    "colab_type": "text",
    "id": "TkmIEuIn2kX3"
   },
   "source": [
    "## Cross Entropy\n",
    "+ define\n",
    "\n",
    "  $J(W) = CE(P, Y) = \\frac{\\sum_{i=1}^{n}(-y_i\\log(p_i) - (1-y_i)\\log(1- p_i))}{n}$\n",
    "\n",
    "+ gradient\n",
    "\n",
    "  $\\frac{dJ}{dP}= -\\frac{Y}{P}+\\frac{1-Y}{1-P}$"
   ]
  },
  {
   "cell_type": "markdown",
   "metadata": {},
   "source": [
    "上面的 log 指的是數學式的 ln"
   ]
  },
  {
   "cell_type": "markdown",
   "metadata": {
    "colab_type": "text",
    "id": "gr0qcWs5mqMA"
   },
   "source": [
    "↓ 可參考: [numpy.dot](https://docs.scipy.org/doc/numpy/reference/generated/numpy.dot.html) ,[numpy.ndarray.T](https://docs.scipy.org/doc/numpy/reference/generated/numpy.ndarray.T.html) ,[numpy.log](https://docs.scipy.org/doc/numpy/reference/generated/numpy.log.html) ,[numpy.divide](https://docs.scipy.org/doc/numpy/reference/generated/numpy.divide.html) , etc"
   ]
  },
  {
   "cell_type": "code",
   "execution_count": 87,
   "metadata": {
    "colab": {},
    "colab_type": "code",
    "id": "ivtB7sKtxWVK"
   },
   "outputs": [],
   "source": [
    "def cost(P, Y):\n",
    "    \"\"\"\n",
    "    Arguments:\n",
    "    P -- probability vector corresponding to your label predictions, shape (1, number of examples)\n",
    "    Y -- true \"label\" vector (for example: containing 0 if non-cat, 1 if cat), shape (1, number of examples)\n",
    "\n",
    "    Returns:\n",
    "    cost -- Cross Entrophy loss\n",
    "    \"\"\"\n",
    "    \n",
    "    m = Y.shape[-1]\n",
    "    \n",
    "    # Compute loss from P and Y.\n",
    "    ##################################\n",
    "    ####          TODO            ####\n",
    "    ##################################\n",
    "    cost = -(np.dot(Y,np.log(P).T) + np.dot(1-Y,np.log(1-P).T))/m\n",
    "#   cost = -0.5 * (np.dot(log(1-Y),(1-P).T) + np.dot(log(1+Y),(1+P).T)) + log(2)\n",
    "    ##################################\n",
    "    ####          TODO            ####\n",
    "    ##################################\n",
    "\n",
    "    cost = np.squeeze(cost)      # To make sure your cost's shape is what we expect (e.g. this turns [[17]] into 17).\n",
    "    assert(cost.shape == ())\n",
    "    \n",
    "    return cost\n",
    "\n",
    "def cost_grad(P, Y):\n",
    "    \"\"\"\n",
    "    Arguments:\n",
    "    P -- probability vector corresponding to your label predictions, shape (1, number of examples)\n",
    "    Y -- true \"label\" vector (for example: containing 0 if non-cat, 1 if cat), shape (1, number of examples)\n",
    "\n",
    "    Returns:\n",
    "    grad -- Gradient of the cost\n",
    "    \"\"\"\n",
    "    \n",
    "    m = Y.shape[-1]\n",
    "\n",
    "    # Compute gradient of the cost from P and Y.\n",
    "    ##################################\n",
    "    ####          TODO            ####\n",
    "    ##################################\n",
    "    grad = -(Y/P - (1-Y)/(1-P))\n",
    "#   grad = -.5*((1+P)/(1+Y) - (1-P)/(1-Y))\n",
    "    ##################################\n",
    "    ####          TODO            ####\n",
    "    ##################################  \n",
    "    return grad\n"
   ]
  },
  {
   "cell_type": "code",
   "execution_count": 88,
   "metadata": {
    "colab": {},
    "colab_type": "code",
    "id": "im7lWkR4qIjq",
    "scrolled": true
   },
   "outputs": [
    {
     "name": "stdout",
     "output_type": "stream",
     "text": [
      "CE loss : 0.3993\n",
      "gradients : [[ 2.         -1.11111111]]\n"
     ]
    }
   ],
   "source": [
    "# check CE and gradient of it\n",
    "P = np.array([[0.5, .9]])\n",
    "Y = np.array([[0.0, 1.0]])\n",
    "loss = cost(P,Y)\n",
    "grad = cost_grad(P,Y)\n",
    "\n",
    "print('CE loss : %.4f' % loss)\n",
    "print('gradients : ' + str(grad))"
   ]
  },
  {
   "cell_type": "markdown",
   "metadata": {
    "colab_type": "text",
    "id": "2sPHO-Ic6nrQ"
   },
   "source": [
    "↑  預期輸出:\n",
    "```\n",
    "CE loss : 0.3993\n",
    "gradients : [[ 2.         -1.11111111]]\n",
    "```"
   ]
  },
  {
   "cell_type": "markdown",
   "metadata": {
    "colab_type": "text",
    "id": "5VHylwvQm8mn"
   },
   "source": [
    "# Perceptron\n",
    "![](https://i.imgur.com/3kbN5FW.png)"
   ]
  },
  {
   "cell_type": "code",
   "execution_count": 89,
   "metadata": {
    "colab": {},
    "colab_type": "code",
    "id": "pSDjg0auD5Vl"
   },
   "outputs": [],
   "source": [
    "# fully one layer perceptron forward\n",
    "def layer_forward(X, W, b):\n",
    "    \"\"\"\n",
    "    Arguments:\n",
    "    X -- activations from previous layer (or input data): (size of previous layer, number of examples)\n",
    "    W -- weights matrix: numpy array of shape (size of current layer, size of previous layer)\n",
    "    b -- bias vector, numpy array of shape (size of the current layer, 1)\n",
    "    \n",
    "    Returns:\n",
    "    Y -- the output of the activation function\n",
    "    cache -- a python dictionary containing \"linear_cache\" and \"activation_cache\";\n",
    "            stored for computing the backward pass efficiently\n",
    "    \"\"\"\n",
    "    ##################################\n",
    "    ####          TODO            ####\n",
    "    ##################################\n",
    "    Z, linear_cache = linear_forward(X, W, b)\n",
    "    Y, activation_cache = sigmoid(Z)\n",
    "    ##################################\n",
    "    ####          TODO            ####\n",
    "    ##################################\n",
    "\n",
    "    cache = (linear_cache, activation_cache)\n",
    "    return Y, cache\n",
    "\n",
    "# fully one layer perceptron backward\n",
    "def layer_backward(dY, cache):\n",
    "    \"\"\"\n",
    "    Arguments:\n",
    "    dY -- post-activation gradient for current layer l \n",
    "    cache -- tuple of values (linear_cache, activation_cache) we store for computing backward propagation efficiently\n",
    "    \n",
    "    Returns:\n",
    "    dX -- Gradient of the cost with respect to the activation (of the previous layer l-1)\n",
    "    dW -- Gradient of the cost with respect to W (current layer l), same shape as W\n",
    "    db -- Gradient of the cost with respect to b (current layer l), same shape as b\n",
    "    \"\"\"\n",
    "    linear_cache, activation_cache = cache\n",
    "    ##################################\n",
    "    ####          TODO            ####\n",
    "    ##################################\n",
    "    dZ = sigmoid_backward(dY, activation_cache)\n",
    "    dX, dW, db = linear_backward(dZ, linear_cache)\n",
    "    ##################################\n",
    "    ####          TODO            ####\n",
    "    ##################################\n",
    "    return dX, dW, db"
   ]
  },
  {
   "cell_type": "markdown",
   "metadata": {
    "colab_type": "text",
    "id": "2jU29fy6tA0t"
   },
   "source": [
    "## Multi-layer Perceptron"
   ]
  },
  {
   "cell_type": "code",
   "execution_count": 130,
   "metadata": {
    "colab": {},
    "colab_type": "code",
    "id": "ojpl1hDJrAUE"
   },
   "outputs": [],
   "source": [
    "# define our model\n",
    "class MultiLayerModel():\n",
    "  def __init__(self, layers_dims):\n",
    "    \"\"\"\n",
    "    Arguments:\n",
    "    layers_dims --  list containing the input size and each layer size\n",
    "    \"\"\"\n",
    "    assert len(layers_dims)>=2\n",
    "    self.layers_num = len(layers_dims)\n",
    "\n",
    "    # initial parameters\n",
    "    self.parameters = {}\n",
    "    for l in range(1, self.layers_num):\n",
    "      self.parameters['W'+str(l)] = np.random.randn(layers_dims[l], layers_dims[l-1])\n",
    "      self.parameters['b'+str(l)] = np.zeros((layers_dims[l], 1))\n",
    "      # ex: self.parameters is {'W1': matrix[300, 784], 'b1':matrix[300,1], 'W2': matrix[1, 300], 'b2':matrix[1,1]} \n",
    "\n",
    "  def train(self, X, Y, learning_rate = 0.0075, num_iterations = 800):\n",
    "    \"\"\"\n",
    "    Arguments:\n",
    "    X --  data, numpy array of shape (num_px * num_px, number of examples)\n",
    "    Y --  label, numpy array of shape (1, number of examples)\n",
    "    learning_rate -- learning rate of the optimization method(SGD)\n",
    "    num_iterations -- number of iterations of the train loop\n",
    "\n",
    "    Returns:\n",
    "    log -- tuple of values (loss, acc) we store record of evaluation indicators\n",
    "    \"\"\"\n",
    "    log = {'loss':[], 'acc':[]}\n",
    "    for i in range(num_iterations):\n",
    "      outputs = {0:X} # dictionary to store output of each layers\n",
    "      caches = {} # dictionary to store cache of each layers for computing backward propagation \n",
    "      grads = {} # dictionary to store gradient of the cost with respect to each parameters \n",
    "      # forward\n",
    "      for l in range(1, self.layers_num):\n",
    "        outputs[l], caches[l] = layer_forward(outputs[l-1], self.parameters['W'+str(l)], self.parameters['b'+str(l)])\n",
    "\n",
    "      # comput loss,accuracy  and gradient of loss for backwward\n",
    "      current_loss = cost(outputs[self.layers_num-1], Y)\n",
    "      acc = self.accuracy(outputs[self.layers_num-1], Y)\n",
    "      grads['Y'+str(self.layers_num-1)] = cost_grad(outputs[self.layers_num-1], Y)\n",
    "      \n",
    "      # backward\n",
    "      for l in range(self.layers_num-1, 0, -1):\n",
    "        grads['Y'+str(l-1)], grads['W'+str(l)], grads['b'+str(l)] = layer_backward(grads['Y'+str(l)], caches[l])\n",
    "\n",
    "      # update parameters (by SGD)\n",
    "      for l in range(1, self.layers_num):\n",
    "        self.parameters['W'+str(l)] += -1 * learning_rate * grads['W'+str(l)]\n",
    "        self.parameters['b'+str(l)] += -1 * learning_rate * grads['b'+str(l)]\n",
    "      \n",
    "      if (i%100) == 0:\n",
    "        print('[Epoch %d] [Loss : %.6f] [Acc : %3d%%]' % (i, current_loss, 100*acc))\n",
    "      log['loss'].append(current_loss)\n",
    "      log['acc'].append(acc)\n",
    "\n",
    "    return log\n",
    "\n",
    "  def predict(self, X):\n",
    "    \"\"\"\n",
    "    Arguments:\n",
    "    X --  data, numpy array of shape (num_px * num_px, number of examples)\n",
    "    \n",
    "    Returns:\n",
    "    Y --  predict output, numpy array of shape (1, number of examples)\n",
    "    \"\"\"\n",
    "    Y = X\n",
    "    for l in range(1, self.layers_num):\n",
    "        Y, _ = layer_forward(Y, self.parameters['W'+str(l)], self.parameters['b'+str(l)])\n",
    "    return np.around(Y)\n",
    "\n",
    "  def accuracy(self, P, Y):\n",
    "    \"\"\"\n",
    "    Arguments:\n",
    "    P --  predict output, numpy array of shape (1, number of examples)\n",
    "    Y --  label, numpy array of shape (1, number of examples)\n",
    "    \n",
    "    Returns:\n",
    "    acc --  accuracy by compare predict an label, float\n",
    "    \"\"\"\n",
    "    acc = np.sum(np.squeeze(np.around(P) == Y)) / Y.shape[-1]\n",
    "    return acc"
   ]
  },
  {
   "cell_type": "code",
   "execution_count": 217,
   "metadata": {
    "colab": {},
    "colab_type": "code",
    "id": "TdIQSn5tHG_K"
   },
   "outputs": [],
   "source": [
    "# create our model\n",
    "np.random.seed(109)\n",
    "layers_dims = [784\n",
    "               , 315 # you can change this number(number of neurons in hidden layer)\n",
    "               , 1]\n",
    "model = MultiLayerModel(layers_dims)"
   ]
  },
  {
   "cell_type": "code",
   "execution_count": 218,
   "metadata": {
    "colab": {},
    "colab_type": "code",
    "id": "sXlsQ-NDQUWo"
   },
   "outputs": [
    {
     "name": "stdout",
     "output_type": "stream",
     "text": [
      "[Epoch 0] [Loss : 4.097987] [Acc :  49%]\n",
      "[Epoch 100] [Loss : 1.706520] [Acc :  53%]\n",
      "[Epoch 200] [Loss : 1.260342] [Acc :  63%]\n",
      "[Epoch 300] [Loss : 1.003502] [Acc :  69%]\n",
      "[Epoch 400] [Loss : 0.839400] [Acc :  74%]\n",
      "[Epoch 500] [Loss : 0.721977] [Acc :  79%]\n",
      "[Epoch 600] [Loss : 0.631053] [Acc :  82%]\n",
      "[Epoch 700] [Loss : 0.557316] [Acc :  83%]\n"
     ]
    }
   ],
   "source": [
    "# train our model\n",
    "log = model.train(x_train, y_train)"
   ]
  },
  {
   "cell_type": "markdown",
   "metadata": {
    "colab_type": "text",
    "id": "T_31CarEIiTF"
   },
   "source": [
    "↑  預期輸出(範例):\n",
    "```\n",
    "[Epoch 0] [Loss : 3.074105] [Acc :  54%]\n",
    "[Epoch 100] [Loss : 1.740730] [Acc :  60%]\n",
    "[Epoch 200] [Loss : 1.392251] [Acc :  66%]\n",
    ".\n",
    ".\n",
    ".\n",
    "```"
   ]
  },
  {
   "cell_type": "code",
   "execution_count": 219,
   "metadata": {
    "colab": {},
    "colab_type": "code",
    "id": "z_SDJFOWtYXs"
   },
   "outputs": [
    {
     "data": {
      "image/png": "[encoded data removed]",
      "text/plain": [
       "<Figure size 432x288 with 1 Axes>"
      ]
     },
     "metadata": {
      "needs_background": "light"
     },
     "output_type": "display_data"
    }
   ],
   "source": [
    "# plot the loss\n",
    "plt.plot(np.squeeze(log['loss']))\n",
    "plt.ylabel('loss')\n",
    "plt.xlabel('iterations')\n",
    "plt.show()"
   ]
  },
  {
   "cell_type": "markdown",
   "metadata": {
    "colab_type": "text",
    "id": "30sHY2YgJNnj"
   },
   "source": [
    "↑  預期輸出(範例):\n",
    "![](https://i.imgur.com/u7NpsAp.png)"
   ]
  },
  {
   "cell_type": "code",
   "execution_count": 220,
   "metadata": {
    "colab": {},
    "colab_type": "code",
    "id": "gRN_cu4Cad26"
   },
   "outputs": [
    {
     "name": "stdout",
     "output_type": "stream",
     "text": [
      "test accuracy : 79.0000%\n"
     ]
    }
   ],
   "source": [
    "# check this model is work when testing\n",
    "p_test = model.predict(x_test)\n",
    "acc = model.accuracy(p_test, y_test)*100\n",
    "print('test accuracy : %.4f%%' % acc)"
   ]
  },
  {
   "cell_type": "markdown",
   "metadata": {
    "colab_type": "text",
    "id": "UcMwDpZFIsCL"
   },
   "source": [
    "↑  預期輸出(範例):\n",
    "```\n",
    "test accuracy : 72.0000%\n",
    "```"
   ]
  },
  {
   "cell_type": "code",
   "execution_count": null,
   "metadata": {},
   "outputs": [],
   "source": []
  }
 ],
 "metadata": {
  "accelerator": "GPU",
  "colab": {
   "authorship_tag": "ABX9TyOurMjhorTGoFn0V1jsB+EO",
   "collapsed_sections": [],
   "name": "HW1.ipynb",
   "provenance": []
  },
  "kernelspec": {
   "display_name": "Python 3",
   "language": "python",
   "name": "python3"
  },
  "language_info": {
   "codemirror_mode": {
    "name": "ipython",
    "version": 3
   },
   "file_extension": ".py",
   "mimetype": "text/x-python",
   "name": "python",
   "nbconvert_exporter": "python",
   "pygments_lexer": "ipython3",
   "version": "3.7.4"
  }
 },
 "nbformat": 4,
 "nbformat_minor": 1
}
